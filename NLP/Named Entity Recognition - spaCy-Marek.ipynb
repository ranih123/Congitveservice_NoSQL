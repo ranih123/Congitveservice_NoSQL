{
 "cells": [
  {
   "cell_type": "code",
   "execution_count": null,
   "metadata": {},
   "outputs": [],
   "source": [
    "# install sp\n",
    "import sys\n",
    "!{sys.executable} -m pip install -U spacy"
   ]
  },
  {
   "cell_type": "code",
   "execution_count": 1,
   "metadata": {},
   "outputs": [],
   "source": [
    "import spacy\n",
    "import random"
   ]
  },
  {
   "cell_type": "code",
   "execution_count": 2,
   "metadata": {},
   "outputs": [],
   "source": [
    "nlp = spacy.load('en_core_web_sm')"
   ]
  },
  {
   "cell_type": "markdown",
   "metadata": {},
   "source": [
    "## Train the spacy entity recognizition model."
   ]
  },
  {
   "cell_type": "code",
   "execution_count": 3,
   "metadata": {},
   "outputs": [],
   "source": [
    "table_names = ['employee', 'organization', 'department']\n",
    "column_names = ['id', 'name', 'email', 'address', 'phone_number', 'date_of_birth']"
   ]
  },
  {
   "cell_type": "code",
   "execution_count": 4,
   "metadata": {},
   "outputs": [],
   "source": [
    "all_input_vectors = table_names + column_names"
   ]
  },
  {
   "cell_type": "code",
   "execution_count": 5,
   "metadata": {},
   "outputs": [],
   "source": [
    "labels = ['table', 'column']\n",
    "\n",
    "train_data = [\n",
    "    (\"get list of employees\", {\n",
    "        'entities': [(12, 20, 'Table')]\n",
    "    }),\n",
    "    (\"get list of employees with name Nilepta\", {\n",
    "        'entities': [(12, 20, 'Table'), (27, 31, 'Column'), (32, 39, 'Value')]\n",
    "    }),\n",
    "    (\"search employees with name Nilepta\", {\n",
    "        'entities': [(7, 16, 'Table'), (22, 26, 'Column')]\n",
    "    }),\n",
    "    (\"find list of employees who live in Washington state\", {\n",
    "        'entities': [(13, 22, 'Table'), (46, 51, 'Column'), (35, 45, 'Value')]\n",
    "    }),\n",
    "    (\"get details of all employees from state Washington\", {\n",
    "        'entities': [(19, 28, 'Table'), (34, 39, 'Column'), (40, 50, 'Value')]\n",
    "    }),\n",
    "    (\"find employee with phone number as 2345678901\", {\n",
    "        'entities': [(5, 13, 'Table'), (19, 24, 'Column'), (35, 45, 'Value')]\n",
    "    }),\n",
    "    (\"get list of employees from Washington state\", {\n",
    "        'entities': [(12, 21, 'Table'), (38, 43, 'Column'), (27, 37, 'Value')]\n",
    "    }),\n",
    "    (\"find employees whose email is qwerty@gmail.com\", {\n",
    "     'entities': [(5, 14, 'Table'), (21, 26, 'Column'), (30, 46, 'Value')]\n",
    "    }),\n",
    "    (\"get employee whose email is asdfg@gmail.com\", {\n",
    "        'entities': [(4, 12, 'Table'), (19, 24, 'Column'), (28, 43, 'Value')]\n",
    "    }),\n",
    "    (\"show me the employee whose email is asdfg@gmail.com\", {\n",
    "        'entities': [(12, 20, 'Table'), (27, 32, 'Column'), (36, 51, 'Value')]\n",
    "    }),\n",
    "    (\"get employee whose email is asdfg@gmail.com and whose from Washington state\", {\n",
    "        'entities': [(4, 12, 'Table'), (19, 24, 'Column'), (28, 43, 'Value'), (70, 75,'Column'), (59,69,'Value')]\n",
    "    }),\n",
    "    (\"get employee whose email is asdfg@gmail.com and whose state is Washington\", {\n",
    "        'entities': [(4, 12, 'Table'), (19, 24, 'Column'), (28, 43, 'Value'), (54, 59,'Column'), (63,73,'Value')]\n",
    "    }),\n",
    "    (\"get employees whose licenses are gjlkddfbgfa and whose state is Washington\", {\n",
    "        'entities': [(4, 12, 'Table'), (20, 28, 'Column'), (33, 41, 'Value'), (54, 59,'Column'), (63,73,'Value')]\n",
    "    }),\n",
    "    (\"get employees whose manager is Becky and whose state is Washington\", {\n",
    "        'entities': [(4, 13, 'Table'), (20, 25, 'Column'), (31, 36, 'Value'), (47, 52,'Column'), (56,66,'Value')]\n",
    "    }),\n",
    "    (\"get list of employees from Washington state or California state\", {\n",
    "        'entities': [(12, 21, 'Table'), (38, 43, 'Column'), (27, 37, 'Value'), (44, 46, 'Operator'), (58, 63, 'Column'), (47, 57, 'Value')]\n",
    "    }),\n",
    "    (\"get details of all employees from state Delaware or state Michigan\", {\n",
    "        'entities': [(19, 28, 'Table'), (34, 39, 'Column'), (40, 50, 'Value'), (49, 51, 'Operator'), (52, 57, 'Column'), (58, 66, 'Value')]\n",
    "    }),\n",
    "    (\"find employees whose email is qwerty@gmail.com and state is Michigan\", {\n",
    "     'entities': [(5, 14, 'Table'), (21, 26, 'Column'), (30, 46, 'Value'), (47, 50, 'Operator'), (51, 56, 'Column'), (60, 68, 'Value')]\n",
    "    }),\n",
    "    (\"get list of employees with name Nilepta and phone number 5550147\", {\n",
    "        'entities': [(12, 20, 'Table'), (27, 31, 'Column'), (32, 39, 'Value'), (40, 43, 'Operator'), (44, 56, 'Column'), (57, 64, 'Value')]\n",
    "    }),\n",
    "    (\"get list of employees with name Nilepta and email 5550147@hotmail.com\", {\n",
    "        'entities': [(12, 20, 'Table'), (27, 31, 'Column'), (32, 39, 'Value'), (40, 43, 'Operator'), (44, 49, 'Column'), (50, 69, 'Value')]\n",
    "    })\n",
    "    ]"
   ]
  },
  {
   "cell_type": "code",
   "execution_count": 6,
   "metadata": {},
   "outputs": [],
   "source": [
    "# nlp create model.\n",
    "nlp = spacy.blank('en')"
   ]
  },
  {
   "cell_type": "code",
   "execution_count": 7,
   "metadata": {},
   "outputs": [],
   "source": [
    "ner = nlp.create_pipe('ner')"
   ]
  },
  {
   "cell_type": "code",
   "execution_count": 8,
   "metadata": {},
   "outputs": [],
   "source": [
    "nlp.add_pipe(ner)"
   ]
  },
  {
   "cell_type": "code",
   "execution_count": 9,
   "metadata": {},
   "outputs": [],
   "source": [
    "# add labelled data to the model.\n",
    "for _, annotations in train_data:\n",
    "    for ent in annotations.get('entities'):\n",
    "        ner.add_label(ent[2])"
   ]
  },
  {
   "cell_type": "code",
   "execution_count": 10,
   "metadata": {},
   "outputs": [
    {
     "data": {
      "text/plain": [
       "['ner']"
      ]
     },
     "execution_count": 10,
     "metadata": {},
     "output_type": "execute_result"
    }
   ],
   "source": [
    "nlp.pipe_names"
   ]
  },
  {
   "cell_type": "code",
   "execution_count": 11,
   "metadata": {},
   "outputs": [],
   "source": [
    "other_pipes = [pipe for pipe in nlp.pipe_names if pipe != 'ner']"
   ]
  },
  {
   "cell_type": "code",
   "execution_count": 12,
   "metadata": {},
   "outputs": [],
   "source": [
    "n_iter = 20"
   ]
  },
  {
   "cell_type": "code",
   "execution_count": 13,
   "metadata": {},
   "outputs": [
    {
     "name": "stdout",
     "output_type": "stream",
     "text": [
      "{'ner': 120.497575092013}\n",
      "{'ner': 79.10479178003519}\n",
      "{'ner': 39.807145819324404}\n",
      "{'ner': 22.11875925534216}\n",
      "{'ner': 9.587047803669618}\n",
      "{'ner': 17.123821176473403}\n",
      "{'ner': 7.5847445620195675}\n",
      "{'ner': 5.146356088866558}\n",
      "{'ner': 5.036458903718314}\n",
      "{'ner': 3.235791037419337}\n",
      "{'ner': 8.516045763949272}\n",
      "{'ner': 3.9337014505166117}\n",
      "{'ner': 5.8155070745595205}\n",
      "{'ner': 2.7715696238291043}\n",
      "{'ner': 2.1985751158682274}\n",
      "{'ner': 4.29173132982258}\n",
      "{'ner': 0.23610946429400542}\n",
      "{'ner': 6.622291926730245}\n",
      "{'ner': 2.088216057916211}\n",
      "{'ner': 4.597178712432043}\n"
     ]
    }
   ],
   "source": [
    "with nlp.disable_pipes(*other_pipes):  # only train NER\n",
    "    optimizer = nlp.begin_training()\n",
    "    for itn in range(n_iter):\n",
    "        random.shuffle(train_data)\n",
    "        losses = {}\n",
    "        for text, annotations in train_data:\n",
    "            nlp.update([text], [annotations], sgd=optimizer, drop=0.35, losses=losses)\n",
    "        print(losses)"
   ]
  },
  {
   "cell_type": "code",
   "execution_count": 14,
   "metadata": {},
   "outputs": [
    {
     "name": "stdout",
     "output_type": "stream",
     "text": [
      "Entities in 'get list of employees with name Nilepta and email 5550147@gmail.com'\n",
      "Entity number 0 is Table in text: 'employees'\n",
      "Entity number 1 is Column in text: 'name'\n",
      "Entity number 2 is Value in text: 'Nilepta'\n",
      "Entity number 3 is Operator in text: 'and'\n",
      "Entity number 4 is Column in text: 'email'\n",
      "Entity number 5 is Value in text: '5550147@gmail.com'\n"
     ]
    }
   ],
   "source": [
    "# testing the model.\n",
    "test_text = \"get list of employees with name Nilepta and email 5550147@gmail.com\"\n",
    "doc = nlp(test_text)\n",
    "print(\"Entities in '%s'\" % test_text)\n",
    "for i, ent in enumerate(doc.ents):\n",
    "    print(\"Entity number %s is %s in text: '%s'\" % (i, ent.label_, ent.text))"
   ]
  },
  {
   "cell_type": "code",
   "execution_count": null,
   "metadata": {},
   "outputs": [],
   "source": []
  },
  {
   "cell_type": "code",
   "execution_count": null,
   "metadata": {},
   "outputs": [],
   "source": []
  },
  {
   "cell_type": "code",
   "execution_count": null,
   "metadata": {},
   "outputs": [],
   "source": []
  },
  {
   "cell_type": "code",
   "execution_count": null,
   "metadata": {},
   "outputs": [],
   "source": [
    "from spacy.vocab import Vocab\n",
    "vocab = Vocab(strings=all_input_vectors)"
   ]
  },
  {
   "cell_type": "code",
   "execution_count": null,
   "metadata": {},
   "outputs": [],
   "source": []
  },
  {
   "cell_type": "code",
   "execution_count": null,
   "metadata": {},
   "outputs": [],
   "source": [
    "from spacy.pipeline import EntityRecognizer\n",
    "\n",
    "ner = EntityRecognizer(vocab)\n",
    "nlp.add_pipe(ner)"
   ]
  },
  {
   "cell_type": "code",
   "execution_count": null,
   "metadata": {},
   "outputs": [],
   "source": []
  },
  {
   "cell_type": "code",
   "execution_count": null,
   "metadata": {},
   "outputs": [],
   "source": [
    "optimizer = nlp.begin_training()"
   ]
  },
  {
   "cell_type": "code",
   "execution_count": null,
   "metadata": {},
   "outputs": [],
   "source": [
    "\"get list of employees with name Nilepta and email 5550147@hotmail.com\".index(\"5550147@hotmail.com\")"
   ]
  },
  {
   "cell_type": "code",
   "execution_count": null,
   "metadata": {},
   "outputs": [],
   "source": [
    "len(\"5550147@hotmail.com\")"
   ]
  },
  {
   "cell_type": "code",
   "execution_count": null,
   "metadata": {},
   "outputs": [],
   "source": [
    "len(\"employee\")"
   ]
  },
  {
   "cell_type": "code",
   "execution_count": null,
   "metadata": {},
   "outputs": [],
   "source": [
    "len(\"email\")"
   ]
  },
  {
   "cell_type": "code",
   "execution_count": null,
   "metadata": {},
   "outputs": [],
   "source": []
  }
 ],
 "metadata": {
  "kernelspec": {
   "display_name": "Python [conda env:py35]",
   "language": "python",
   "name": "conda-env-py35-py"
  },
  "language_info": {
   "codemirror_mode": {
    "name": "ipython",
    "version": 3
   },
   "file_extension": ".py",
   "mimetype": "text/x-python",
   "name": "python",
   "nbconvert_exporter": "python",
   "pygments_lexer": "ipython3",
   "version": "3.5.5"
  }
 },
 "nbformat": 4,
 "nbformat_minor": 2
}
