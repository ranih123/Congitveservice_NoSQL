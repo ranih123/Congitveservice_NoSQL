{
 "cells": [
  {
   "cell_type": "code",
   "execution_count": null,
   "metadata": {},
   "outputs": [],
   "source": [
    "# install sp\n",
    "import sys\n",
    "!{sys.executable} -m pip install -U spacy"
   ]
  },
  {
   "cell_type": "code",
   "execution_count": 21,
   "metadata": {},
   "outputs": [],
   "source": [
    "import spacy\n",
    "import random"
   ]
  },
  {
   "cell_type": "code",
   "execution_count": 2,
   "metadata": {},
   "outputs": [],
   "source": [
    "nlp = spacy.load('en_core_web_sm')"
   ]
  },
  {
   "cell_type": "markdown",
   "metadata": {},
   "source": [
    "## Train the spacy entity recognizition model."
   ]
  },
  {
   "cell_type": "code",
   "execution_count": 3,
   "metadata": {},
   "outputs": [],
   "source": [
    "table_names = ['employee', 'organization', 'department']\n",
    "column_names = ['id', 'name', 'email', 'address', 'phone_number', 'date_of_birth']"
   ]
  },
  {
   "cell_type": "code",
   "execution_count": 4,
   "metadata": {},
   "outputs": [],
   "source": [
    "all_input_vectors = table_names + column_names"
   ]
  },
  {
   "cell_type": "code",
   "execution_count": 16,
   "metadata": {},
   "outputs": [],
   "source": [
    "labels = ['table', 'column']\n",
    "\n",
    "train_data = [\n",
    "    (\"get list of employees\", {\n",
    "        'entities': [(12, 20, 'Table')]\n",
    "    }),\n",
    "    (\"get list of employees with name Nilepta\", {\n",
    "        'entities': [(12, 20, 'Table'), (27, 31, 'Column'), (32, 39, 'Value')]\n",
    "    }),\n",
    "    (\"search employees with name Nilepta\", {\n",
    "        'entities': [(7, 16, 'Table'), (22, 26, 'Column')]\n",
    "    }),\n",
    "    (\"find list of employees who live in Washington state\", {\n",
    "        'entities': [(13, 22, 'Table'), (46, 51, 'Column'), (35, 45, 'Value')]\n",
    "    }),\n",
    "    (\"get details of all employees from state Washington\", {\n",
    "        'entities': [(19, 28, 'Table'), (34, 39, 'Column'), (40, 50, 'Value')]\n",
    "    }),\n",
    "    (\"find employee with phone number as 2345678901\", {\n",
    "        'entities': [(5, 13, 'Table'), (19, 24, 'Column'), (35, 45, 'Value')]\n",
    "    }),\n",
    "    (\"get list of employees from Washington state\", {\n",
    "        'entities': [(12, 21, 'Table'), (38, 43, 'Column'), (27, 37, 'Value')]\n",
    "    }),\n",
    "    (\"find employees whose email is qwerty@gmail.com\", {\n",
    "     'entities': [(5, 14, 'Table'), (21, 26, 'Column'), (30, 46, 'Value')]\n",
    "    }),\n",
    "    (\"get employee whose email is asdfg@gmail.com\", {\n",
    "        'entities': [(4, 12, 'Table'), (19, 24, 'Column'), (28, 43, 'Value')]\n",
    "    })\n",
    "    ]"
   ]
  },
  {
   "cell_type": "code",
   "execution_count": 11,
   "metadata": {},
   "outputs": [],
   "source": [
    "# nlp create model.\n",
    "nlp = spacy.blank('en')"
   ]
  },
  {
   "cell_type": "code",
   "execution_count": 12,
   "metadata": {},
   "outputs": [],
   "source": [
    "ner = nlp.create_pipe('ner')"
   ]
  },
  {
   "cell_type": "code",
   "execution_count": 13,
   "metadata": {},
   "outputs": [],
   "source": [
    "nlp.add_pipe(ner)"
   ]
  },
  {
   "cell_type": "code",
   "execution_count": 17,
   "metadata": {},
   "outputs": [],
   "source": [
    "# add labelled data to the model.\n",
    "for _, annotations in train_data:\n",
    "    for ent in annotations.get('entities'):\n",
    "        ner.add_label(ent[2])"
   ]
  },
  {
   "cell_type": "code",
   "execution_count": 18,
   "metadata": {},
   "outputs": [],
   "source": [
    "other_pipes = [pipe for pipe in nlp.pipe_names if pipe != 'ner']"
   ]
  },
  {
   "cell_type": "code",
   "execution_count": 19,
   "metadata": {},
   "outputs": [],
   "source": [
    "n_iter = 10"
   ]
  },
  {
   "cell_type": "code",
   "execution_count": 22,
   "metadata": {},
   "outputs": [
    {
     "name": "stdout",
     "output_type": "stream",
     "text": [
      "{'ner': 49.35320996120572}\n",
      "{'ner': 31.912368553254055}\n",
      "{'ner': 30.86327546251316}\n",
      "{'ner': 24.400518887433122}\n",
      "{'ner': 20.008653647564884}\n",
      "{'ner': 11.515644887920672}\n",
      "{'ner': 7.235697801928495}\n",
      "{'ner': 3.28906892614385}\n",
      "{'ner': 2.7888558081895094}\n",
      "{'ner': 2.342875523543452}\n"
     ]
    }
   ],
   "source": [
    "with nlp.disable_pipes(*other_pipes):  # only train NER\n",
    "    optimizer = nlp.begin_training()\n",
    "    for itn in range(n_iter):\n",
    "        random.shuffle(train_data)\n",
    "        losses = {}\n",
    "        for text, annotations in train_data:\n",
    "            nlp.update([text], [annotations], sgd=optimizer, drop=0.35, losses=losses)\n",
    "        print(losses)"
   ]
  },
  {
   "cell_type": "code",
   "execution_count": 25,
   "metadata": {},
   "outputs": [
    {
     "name": "stdout",
     "output_type": "stream",
     "text": [
      "Entities in 'get employee with email as rohan@gmail.com'\n",
      "Entity number 0 is Table in text: 'employee'\n",
      "Entity number 1 is Column in text: 'email'\n",
      "Entity number 2 is Value in text: 'rohan@gmail.com'\n"
     ]
    }
   ],
   "source": [
    "# testing the model.\n",
    "test_text = \"get employee with email as rohan@gmail.com\"\n",
    "doc = nlp(test_text)\n",
    "print(\"Entities in '%s'\" % test_text)\n",
    "for i, ent in enumerate(doc.ents):\n",
    "    print(\"Entity number %s is %s in text: '%s'\" % (i, ent.label_, ent.text))"
   ]
  },
  {
   "cell_type": "code",
   "execution_count": null,
   "metadata": {},
   "outputs": [],
   "source": []
  },
  {
   "cell_type": "code",
   "execution_count": null,
   "metadata": {},
   "outputs": [],
   "source": []
  },
  {
   "cell_type": "code",
   "execution_count": null,
   "metadata": {},
   "outputs": [],
   "source": []
  },
  {
   "cell_type": "code",
   "execution_count": null,
   "metadata": {},
   "outputs": [],
   "source": [
    "from spacy.vocab import Vocab\n",
    "vocab = Vocab(strings=all_input_vectors)"
   ]
  },
  {
   "cell_type": "code",
   "execution_count": null,
   "metadata": {},
   "outputs": [],
   "source": []
  },
  {
   "cell_type": "code",
   "execution_count": null,
   "metadata": {},
   "outputs": [],
   "source": [
    "from spacy.pipeline import EntityRecognizer\n",
    "\n",
    "ner = EntityRecognizer(vocab)\n",
    "nlp.add_pipe(ner)"
   ]
  },
  {
   "cell_type": "code",
   "execution_count": null,
   "metadata": {},
   "outputs": [],
   "source": []
  },
  {
   "cell_type": "code",
   "execution_count": null,
   "metadata": {},
   "outputs": [],
   "source": [
    "optimizer = nlp.begin_training()"
   ]
  },
  {
   "cell_type": "code",
   "execution_count": 7,
   "metadata": {},
   "outputs": [
    {
     "data": {
      "text/plain": [
       "22"
      ]
     },
     "execution_count": 7,
     "metadata": {},
     "output_type": "execute_result"
    }
   ],
   "source": [
    "\"search employees with name Nilepta\".index(\"name\")"
   ]
  },
  {
   "cell_type": "code",
   "execution_count": 8,
   "metadata": {},
   "outputs": [
    {
     "data": {
      "text/plain": [
       "7"
      ]
     },
     "execution_count": 8,
     "metadata": {},
     "output_type": "execute_result"
    }
   ],
   "source": [
    "len(\"Nilepta\")"
   ]
  },
  {
   "cell_type": "code",
   "execution_count": 6,
   "metadata": {},
   "outputs": [
    {
     "data": {
      "text/plain": [
       "9"
      ]
     },
     "execution_count": 6,
     "metadata": {},
     "output_type": "execute_result"
    }
   ],
   "source": [
    "len(\"employees\")"
   ]
  },
  {
   "cell_type": "code",
   "execution_count": 9,
   "metadata": {},
   "outputs": [
    {
     "data": {
      "text/plain": [
       "4"
      ]
     },
     "execution_count": 9,
     "metadata": {},
     "output_type": "execute_result"
    }
   ],
   "source": [
    "len(\"name\")"
   ]
  },
  {
   "cell_type": "code",
   "execution_count": null,
   "metadata": {},
   "outputs": [],
   "source": []
  }
 ],
 "metadata": {
  "kernelspec": {
   "display_name": "Python [conda env:py35]",
   "language": "python",
   "name": "conda-env-py35-py"
  },
  "language_info": {
   "codemirror_mode": {
    "name": "ipython",
    "version": 3
   },
   "file_extension": ".py",
   "mimetype": "text/x-python",
   "name": "python",
   "nbconvert_exporter": "python",
   "pygments_lexer": "ipython3",
   "version": "3.5.5"
  }
 },
 "nbformat": 4,
 "nbformat_minor": 2
}
