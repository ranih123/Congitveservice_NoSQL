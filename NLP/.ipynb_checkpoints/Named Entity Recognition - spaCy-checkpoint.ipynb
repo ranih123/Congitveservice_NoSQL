{
 "cells": [
  {
   "cell_type": "code",
   "execution_count": null,
   "metadata": {},
   "outputs": [],
   "source": [
    "# install sp\n",
    "import sys\n",
    "!{sys.executable} -m pip install -U spacy"
   ]
  },
  {
   "cell_type": "code",
   "execution_count": 1,
   "metadata": {},
   "outputs": [],
   "source": [
    "import spacy\n",
    "import random"
   ]
  },
  {
   "cell_type": "code",
   "execution_count": null,
   "metadata": {},
   "outputs": [],
   "source": [
    "nlp = spacy.load('en_core_web_sm')"
   ]
  },
  {
   "cell_type": "markdown",
   "metadata": {},
   "source": [
    "## Train the spacy entity recognizition model."
   ]
  },
  {
   "cell_type": "code",
   "execution_count": null,
   "metadata": {},
   "outputs": [],
   "source": [
    "table_names = ['employee', 'organization', 'department']\n",
    "column_names = ['id', 'name', 'email', 'address', 'phone_number', 'date_of_birth']"
   ]
  },
  {
   "cell_type": "code",
   "execution_count": null,
   "metadata": {},
   "outputs": [],
   "source": [
    "all_input_vectors = table_names + column_names"
   ]
  },
  {
   "cell_type": "code",
   "execution_count": 2,
   "metadata": {},
   "outputs": [],
   "source": [
    "train_data = [\n",
    "    (\"get list of employees\", {\n",
    "        'entities': [(12, 20, 'Table')]\n",
    "    }),\n",
    "    (\"get list of employees with name Nilepta\", {\n",
    "        'entities': [(12, 20, 'Table'), (27, 31, 'Column'), (32, 39, 'Value')]\n",
    "    }),\n",
    "    (\"search employees with name Nilepta\", {\n",
    "        'entities': [(7, 16, 'Table'), (22, 26, 'Column')]\n",
    "    }),\n",
    "    (\"find list of employees who live in Washington state\", {\n",
    "        'entities': [(13, 22, 'Table'), (46, 51, 'Column'), (35, 45, 'Value')]\n",
    "    }),\n",
    "    (\"get details of all employees from state Washington\", {\n",
    "        'entities': [(19, 28, 'Table'), (34, 39, 'Column'), (40, 50, 'Value')]\n",
    "    }),\n",
    "    (\"find employee with phone number as 2345678901\", {\n",
    "        'entities': [(5, 13, 'Table'), (19, 24, 'Column'), (35, 45, 'Value')]\n",
    "    }),\n",
    "    (\"get list of employees from Washington state\", {\n",
    "        'entities': [(12, 21, 'Table'), (38, 43, 'Column'), (27, 37, 'Value')]\n",
    "    }),\n",
    "    (\"find employees whose email is qwerty@gmail.com\", {\n",
    "     'entities': [(5, 14, 'Table'), (21, 26, 'Column'), (30, 46, 'Value')]\n",
    "    }),\n",
    "    (\"get employee whose email is asdfg@gmail.com\", {\n",
    "        'entities': [(4, 12, 'Table'), (19, 24, 'Column'), (28, 43, 'Value')]\n",
    "    })\n",
    "    ]"
   ]
  },
  {
   "cell_type": "code",
   "execution_count": 3,
   "metadata": {},
   "outputs": [],
   "source": [
    "# nlp create model.\n",
    "nlp = spacy.blank('en')"
   ]
  },
  {
   "cell_type": "code",
   "execution_count": 4,
   "metadata": {},
   "outputs": [],
   "source": [
    "ner = nlp.create_pipe('ner')"
   ]
  },
  {
   "cell_type": "code",
   "execution_count": 5,
   "metadata": {},
   "outputs": [],
   "source": [
    "nlp.add_pipe(ner)"
   ]
  },
  {
   "cell_type": "code",
   "execution_count": 6,
   "metadata": {},
   "outputs": [],
   "source": [
    "# add labelled data to the model.\n",
    "for _, annotations in train_data:\n",
    "    for ent in annotations.get('entities'):\n",
    "        ner.add_label(ent[2])"
   ]
  },
  {
   "cell_type": "code",
   "execution_count": 7,
   "metadata": {},
   "outputs": [],
   "source": [
    "other_pipes = [pipe for pipe in nlp.pipe_names if pipe != 'ner']"
   ]
  },
  {
   "cell_type": "code",
   "execution_count": 9,
   "metadata": {},
   "outputs": [],
   "source": [
    "n_iter = 20"
   ]
  },
  {
   "cell_type": "code",
   "execution_count": 10,
   "metadata": {},
   "outputs": [
    {
     "name": "stdout",
     "output_type": "stream",
     "text": [
      "{'ner': 48.832067865878344}\n",
      "{'ner': 35.658218862488866}\n",
      "{'ner': 31.5055147993844}\n",
      "{'ner': 24.733343594267353}\n",
      "{'ner': 16.755979170869978}\n",
      "{'ner': 10.521632771708283}\n",
      "{'ner': 5.48107267651709}\n",
      "{'ner': 2.559848444220565}\n",
      "{'ner': 2.455654755071797}\n",
      "{'ner': 3.22536460782777}\n",
      "{'ner': 2.00545993525101}\n",
      "{'ner': 2.361594494627145}\n",
      "{'ner': 1.9842200670356336}\n",
      "{'ner': 3.1655945609672838}\n",
      "{'ner': 2.532924808787292}\n",
      "{'ner': 2.0033856140849204}\n",
      "{'ner': 3.994853970337278}\n",
      "{'ner': 2.142054011204241}\n",
      "{'ner': 1.6448378174446052}\n",
      "{'ner': 2.967424586238052}\n"
     ]
    }
   ],
   "source": [
    "with nlp.disable_pipes(*other_pipes):  # only train NER\n",
    "    optimizer = nlp.begin_training()\n",
    "    for itn in range(n_iter):\n",
    "        random.shuffle(train_data)\n",
    "        losses = {}\n",
    "        for text, annotations in train_data:\n",
    "            nlp.update([text], [annotations], sgd=optimizer, drop=0.35, losses=losses)\n",
    "        print(losses)"
   ]
  },
  {
   "cell_type": "code",
   "execution_count": 11,
   "metadata": {},
   "outputs": [
    {
     "name": "stdout",
     "output_type": "stream",
     "text": [
      "Entities in 'get employee with email as rohan@gmail.com'\n",
      "Entity number 0 is Table in text: 'employee'\n",
      "Tokens [('get', '', 2), ('employee', 'Table', 3), ('with', '', 2), ('email', 'Column', 3), ('as', '', 2), ('rohan@gmail.com', 'Value', 3)]\n",
      "Entity number 1 is Column in text: 'email'\n",
      "Tokens [('get', '', 2), ('employee', 'Table', 3), ('with', '', 2), ('email', 'Column', 3), ('as', '', 2), ('rohan@gmail.com', 'Value', 3)]\n",
      "Entity number 2 is Value in text: 'rohan@gmail.com'\n",
      "Tokens [('get', '', 2), ('employee', 'Table', 3), ('with', '', 2), ('email', 'Column', 3), ('as', '', 2), ('rohan@gmail.com', 'Value', 3)]\n"
     ]
    }
   ],
   "source": [
    "# testing the model.\n",
    "test_text = \"get employee with email as rohan@gmail.com\"\n",
    "doc = nlp(test_text)\n",
    "print(\"Entities in '%s'\" % test_text)\n",
    "for i, ent in enumerate(doc.ents):\n",
    "    print(\"Entity number %s is %s in text: '%s'\" % (i, ent.label_, ent.text))\n",
    "    print(\"Tokens\", [(t.text, t.ent_type_, t.ent_iob) for t in doc])"
   ]
  },
  {
   "cell_type": "code",
   "execution_count": 12,
   "metadata": {},
   "outputs": [],
   "source": [
    "nlp.to_disk('/mnt/azmnt/code/Users/Congitveservice_NoSQL/NLP/Model')"
   ]
  },
  {
   "cell_type": "code",
   "execution_count": null,
   "metadata": {},
   "outputs": [],
   "source": []
  },
  {
   "cell_type": "code",
   "execution_count": null,
   "metadata": {},
   "outputs": [],
   "source": []
  },
  {
   "cell_type": "code",
   "execution_count": null,
   "metadata": {},
   "outputs": [],
   "source": []
  },
  {
   "cell_type": "code",
   "execution_count": null,
   "metadata": {},
   "outputs": [],
   "source": []
  }
 ],
 "metadata": {
  "kernelspec": {
   "display_name": "Python [conda env:py35]",
   "language": "python",
   "name": "conda-env-py35-py"
  },
  "language_info": {
   "codemirror_mode": {
    "name": "ipython",
    "version": 3
   },
   "file_extension": ".py",
   "mimetype": "text/x-python",
   "name": "python",
   "nbconvert_exporter": "python",
   "pygments_lexer": "ipython3",
   "version": "3.5.5"
  }
 },
 "nbformat": 4,
 "nbformat_minor": 2
}
