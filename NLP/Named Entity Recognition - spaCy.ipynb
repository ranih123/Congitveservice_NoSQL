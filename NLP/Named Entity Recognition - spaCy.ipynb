{
 "cells": [
  {
   "cell_type": "code",
   "execution_count": null,
   "metadata": {},
   "outputs": [],
   "source": [
    "# install sp\n",
    "import sys\n",
    "!{sys.executable} -m pip install -U spacy"
   ]
  },
  {
   "cell_type": "code",
   "execution_count": 19,
   "metadata": {},
   "outputs": [],
   "source": [
    "import spacy\n",
    "import random"
   ]
  },
  {
   "cell_type": "markdown",
   "metadata": {},
   "source": [
    "## Train the spacy entity recognizition model."
   ]
  },
  {
   "cell_type": "code",
   "execution_count": 20,
   "metadata": {},
   "outputs": [],
   "source": [
    "train_data = [\n",
    "    (\"get list of employees\", {\n",
    "        'entities': [(12, 20, 'Table')]\n",
    "    }),\n",
    "    (\"get list of employees with name Nilepta\", {\n",
    "        'entities': [(12, 20, 'Table'), (27, 31, 'Column'), (32, 39, 'Value')]\n",
    "    }),\n",
    "    (\"search employees with name Nilepta\", {\n",
    "        'entities': [(7, 16, 'Table'), (22, 26, 'Column')]\n",
    "    }),\n",
    "    (\"find list of employees who live in Washington state\", {\n",
    "        'entities': [(13, 22, 'Table'), (46, 51, 'Column'), (35, 45, 'Value')]\n",
    "    }),\n",
    "    (\"get details of all employees from state Washington\", {\n",
    "        'entities': [(19, 28, 'Table'), (34, 39, 'Column'), (40, 50, 'Value')]\n",
    "    }),\n",
    "    (\"find employee with phone number as 2345678901\", {\n",
    "        'entities': [(5, 13, 'Table'), (19, 24, 'Column'), (35, 45, 'Value')]\n",
    "    }),\n",
    "    (\"get list of employees from Washington state\", {\n",
    "        'entities': [(12, 21, 'Table'), (38, 43, 'Column'), (27, 37, 'Value')]\n",
    "    }),\n",
    "    (\"find employees whose email is qwerty@gmail.com\", {\n",
    "     'entities': [(5, 14, 'Table'), (21, 26, 'Column'), (30, 46, 'Value')]\n",
    "    }),\n",
    "    (\"get employee whose email is asdfg@gmail.com\", {\n",
    "        'entities': [(4, 12, 'Table'), (19, 24, 'Column'), (28, 43, 'Value')]\n",
    "    })\n",
    "    ]"
   ]
  },
  {
   "cell_type": "code",
   "execution_count": 21,
   "metadata": {},
   "outputs": [],
   "source": [
    "# nlp create model.\n",
    "nlp = spacy.blank('en')"
   ]
  },
  {
   "cell_type": "code",
   "execution_count": 22,
   "metadata": {},
   "outputs": [],
   "source": [
    "ner = nlp.create_pipe('ner')"
   ]
  },
  {
   "cell_type": "code",
   "execution_count": 23,
   "metadata": {},
   "outputs": [],
   "source": [
    "nlp.add_pipe(ner)"
   ]
  },
  {
   "cell_type": "code",
   "execution_count": 24,
   "metadata": {},
   "outputs": [],
   "source": [
    "# add labelled data to the model.\n",
    "for _, annotations in train_data:\n",
    "    for ent in annotations.get('entities'):\n",
    "        ner.add_label(ent[2])"
   ]
  },
  {
   "cell_type": "code",
   "execution_count": 25,
   "metadata": {},
   "outputs": [],
   "source": [
    "other_pipes = [pipe for pipe in nlp.pipe_names if pipe != 'ner']"
   ]
  },
  {
   "cell_type": "code",
   "execution_count": 26,
   "metadata": {},
   "outputs": [],
   "source": [
    "n_iter = 20"
   ]
  },
  {
   "cell_type": "code",
   "execution_count": 27,
   "metadata": {},
   "outputs": [
    {
     "name": "stdout",
     "output_type": "stream",
     "text": [
      "{'ner': 48.06864865496755}\n",
      "{'ner': 32.6895731506811}\n",
      "{'ner': 31.50973227131272}\n",
      "{'ner': 24.738726106341346}\n",
      "{'ner': 20.175611039048817}\n",
      "{'ner': 12.369157264173484}\n",
      "{'ner': 7.924214684312114}\n",
      "{'ner': 4.877818860630185}\n",
      "{'ner': 2.1710149929853557}\n",
      "{'ner': 0.9634815273257127}\n",
      "{'ner': 3.2962246101248565}\n",
      "{'ner': 3.802578118814646}\n",
      "{'ner': 3.059533075291307}\n",
      "{'ner': 1.482130764071137}\n",
      "{'ner': 2.209023112724146}\n",
      "{'ner': 2.812084155380485}\n",
      "{'ner': 2.0656549037019927}\n",
      "{'ner': 1.7738983929786547}\n",
      "{'ner': 0.6991681326590278}\n",
      "{'ner': 0.7264539918501943}\n"
     ]
    }
   ],
   "source": [
    "with nlp.disable_pipes(*other_pipes):  # only train NER\n",
    "    optimizer = nlp.begin_training()\n",
    "    for itn in range(n_iter):\n",
    "        random.shuffle(train_data)\n",
    "        losses = {}\n",
    "        for text, annotations in train_data:\n",
    "            nlp.update([text], [annotations], sgd=optimizer, drop=0.35, losses=losses)\n",
    "        print(losses)"
   ]
  },
  {
   "cell_type": "code",
   "execution_count": 28,
   "metadata": {
    "scrolled": true
   },
   "outputs": [
    {
     "name": "stdout",
     "output_type": "stream",
     "text": [
      "Entities in 'get employee with email as rohan@gmail.com'\n",
      "Entity number 0 is Table in text: 'employee'\n",
      "Entity number 1 is Column in text: 'email'\n",
      "Entity number 2 is Value in text: 'rohan@gmail.com'\n"
     ]
    }
   ],
   "source": [
    "# testing the model.\n",
    "test_text = \"get employee with email as rohan@gmail.com\"\n",
    "doc = nlp(test_text)\n",
    "print(\"Entities in '%s'\" % test_text)\n",
    "for i, ent in enumerate(doc.ents):\n",
    "    print(\"Entity number %s is %s in text: '%s'\" % (i, ent.label_, ent.text))"
   ]
  },
  {
   "cell_type": "code",
   "execution_count": 15,
   "metadata": {},
   "outputs": [],
   "source": [
    "ner_bytes = ner.to_bytes('/mnt/azmnt/code/Users/Source/Congitveservice_NoSQL/NLP/ner-model-1b')"
   ]
  },
  {
   "cell_type": "code",
   "execution_count": 29,
   "metadata": {},
   "outputs": [],
   "source": [
    "nlp_bytes = nlp.to_bytes()"
   ]
  },
  {
   "cell_type": "code",
   "execution_count": 30,
   "metadata": {},
   "outputs": [],
   "source": [
    "f = open('/mnt/azmnt/code/Users/Source/Congitveservice_NoSQL/NLP/ner-model-1c', 'wb+')"
   ]
  },
  {
   "cell_type": "code",
   "execution_count": 31,
   "metadata": {},
   "outputs": [
    {
     "data": {
      "text/plain": [
       "4143381"
      ]
     },
     "execution_count": 31,
     "metadata": {},
     "output_type": "execute_result"
    }
   ],
   "source": [
    "f.write(nlp_bytes)"
   ]
  },
  {
   "cell_type": "code",
   "execution_count": 32,
   "metadata": {},
   "outputs": [],
   "source": [
    "f.close()"
   ]
  },
  {
   "cell_type": "code",
   "execution_count": null,
   "metadata": {},
   "outputs": [],
   "source": []
  }
 ],
 "metadata": {
  "kernelspec": {
   "display_name": "Python [conda env:py35]",
   "language": "python",
   "name": "conda-env-py35-py"
  },
  "language_info": {
   "codemirror_mode": {
    "name": "ipython",
    "version": 3
   },
   "file_extension": ".py",
   "mimetype": "text/x-python",
   "name": "python",
   "nbconvert_exporter": "python",
   "pygments_lexer": "ipython3",
   "version": "3.5.5"
  }
 },
 "nbformat": 4,
 "nbformat_minor": 2
}
