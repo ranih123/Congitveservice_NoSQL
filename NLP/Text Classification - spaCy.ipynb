{
 "cells": [
  {
   "cell_type": "code",
   "execution_count": null,
   "metadata": {},
   "outputs": [],
   "source": [
    "# install sp\n",
    "import sys\n",
    "!{sys.executable} -m pip install -U spacy"
   ]
  },
  {
   "cell_type": "code",
   "execution_count": 1,
   "metadata": {},
   "outputs": [],
   "source": [
    "import spacy\n",
    "import random"
   ]
  },
  {
   "cell_type": "markdown",
   "metadata": {},
   "source": [
    "## Train the text classification model."
   ]
  },
  {
   "cell_type": "code",
   "execution_count": 2,
   "metadata": {},
   "outputs": [],
   "source": [
    "train_data = [\n",
    "    ('get list of employees', {'cats': {'search': 0.91}}),\n",
    "    ('get list of employees with name Nilepta', {'cats': {'search': 0.92}}),\n",
    "    ('search employees with name Nilepta', {'cats': {'search': 0.93}}),\n",
    "    ('find list of employees who live in Washington state', {'cats': {'search': 0.94}}),\n",
    "    ('get details of all employees from state Washington', {'cats': {'search': 0.89}}),\n",
    "    ('find employee with phone number as 2345678901', {'cats': {'search': 0.99}}),\n",
    "    ('get list of employees from Washington state', {'cats': {'search': 0.992}}),\n",
    "    ('find employees whose email is qwerty@gmail.com', {'cats': {'search': 0.993}}),\n",
    "    ('get employee whose email is asdfg@gmail.com', {'cats': {'search': 0.994}}),\n",
    "    ('get employee whose salary is between 100 and 200', {'cats': {'range': 0.99}}),\n",
    "    ('get employee whose salary is above 100', {'cats': {'range': 0.992}}),\n",
    "    ('get employee whose salary is below 100', {'cats': {'range': 0.993}}),\n",
    "    ]"
   ]
  },
  {
   "cell_type": "code",
   "execution_count": 3,
   "metadata": {},
   "outputs": [
    {
     "name": "stdout",
     "output_type": "stream",
     "text": [
      "get list of employees {'cats': {'search': 0.91}}\n",
      "get list of employees with name Nilepta {'cats': {'search': 0.92}}\n",
      "search employees with name Nilepta {'cats': {'search': 0.93}}\n",
      "find list of employees who live in Washington state {'cats': {'search': 0.94}}\n",
      "get details of all employees from state Washington {'cats': {'search': 0.89}}\n",
      "find employee with phone number as 2345678901 {'cats': {'search': 0.99}}\n",
      "get list of employees from Washington state {'cats': {'search': 0.992}}\n",
      "find employees whose email is qwerty@gmail.com {'cats': {'search': 0.993}}\n",
      "get employee whose email is asdfg@gmail.com {'cats': {'search': 0.994}}\n",
      "get employee whose salary is between 100 and 200 {'cats': {'range': 0.99}}\n",
      "get employee whose salary is above 100 {'cats': {'range': 0.992}}\n",
      "get employee whose salary is below 100 {'cats': {'range': 0.993}}\n"
     ]
    }
   ],
   "source": [
    "for text, annotations in train_data:\n",
    "    print(text, annotations)"
   ]
  },
  {
   "cell_type": "code",
   "execution_count": 4,
   "metadata": {},
   "outputs": [],
   "source": [
    "# nlp create model.\n",
    "nlp = spacy.blank('en')"
   ]
  },
  {
   "cell_type": "code",
   "execution_count": 5,
   "metadata": {},
   "outputs": [],
   "source": [
    "textcat = nlp.create_pipe('textcat')"
   ]
  },
  {
   "cell_type": "code",
   "execution_count": 6,
   "metadata": {},
   "outputs": [],
   "source": [
    "nlp.add_pipe(textcat)"
   ]
  },
  {
   "cell_type": "code",
   "execution_count": 7,
   "metadata": {},
   "outputs": [
    {
     "data": {
      "text/plain": [
       "1"
      ]
     },
     "execution_count": 7,
     "metadata": {},
     "output_type": "execute_result"
    }
   ],
   "source": [
    "# add labelled data to the model.\n",
    "textcat.add_label('search')\n",
    "textcat.add_label('range')"
   ]
  },
  {
   "cell_type": "code",
   "execution_count": 8,
   "metadata": {},
   "outputs": [],
   "source": [
    "other_pipes = [pipe for pipe in nlp.pipe_names if pipe != 'textcat']"
   ]
  },
  {
   "cell_type": "code",
   "execution_count": 9,
   "metadata": {},
   "outputs": [],
   "source": [
    "n_iter = 20"
   ]
  },
  {
   "cell_type": "code",
   "execution_count": 12,
   "metadata": {},
   "outputs": [
    {
     "name": "stdout",
     "output_type": "stream",
     "text": [
      "{'textcat': 4.8491813712753356}\n",
      "{'textcat': 4.286091523885261}\n",
      "{'textcat': 0.47355836396729956}\n",
      "{'textcat': 1.3984007939579897}\n",
      "{'textcat': 0.6296343083413376}\n",
      "{'textcat': 1.122080572278719}\n",
      "{'textcat': 0.04600611707246571}\n",
      "{'textcat': 0.03053639830704924}\n",
      "{'textcat': 0.10770763587424881}\n",
      "{'textcat': 0.03747039042136535}\n",
      "{'textcat': 0.04094115480984328}\n",
      "{'textcat': 0.43272675330626953}\n",
      "{'textcat': 0.03480597232328364}\n",
      "{'textcat': 0.035273027351649944}\n",
      "{'textcat': 0.08788099190860521}\n",
      "{'textcat': 0.03352015775226391}\n",
      "{'textcat': 0.3645384983465192}\n",
      "{'textcat': 0.03801771286907751}\n",
      "{'textcat': 0.061115093008993426}\n",
      "{'textcat': 0.035783317471214104}\n"
     ]
    }
   ],
   "source": [
    "with nlp.disable_pipes(*other_pipes):  # only train NER\n",
    "    optimizer = nlp.begin_training()\n",
    "    for itn in range(n_iter):\n",
    "        random.shuffle(train_data)\n",
    "        losses = {}\n",
    "        for text, annotations in train_data:\n",
    "            nlp.update([text], [annotations], sgd=optimizer, drop=0.35, losses=losses)\n",
    "        print(losses)"
   ]
  },
  {
   "cell_type": "code",
   "execution_count": 16,
   "metadata": {},
   "outputs": [
    {
     "name": "stdout",
     "output_type": "stream",
     "text": [
      "Entities in 'get employee with salary is below 100'\n",
      "(0, 'range')\n",
      "(1, 'search')\n"
     ]
    }
   ],
   "source": [
    "# testing the model.\n",
    "test_text = \"get employee with salary is below 100\"\n",
    "doc = nlp(test_text)\n",
    "print(\"Entities in '%s'\" % test_text)\n",
    "for i, ent in enumerate(doc.cats):\n",
    "    print((i, ent))"
   ]
  },
  {
   "cell_type": "code",
   "execution_count": null,
   "metadata": {},
   "outputs": [],
   "source": [
    "nlp.to_disk('/mnt/azmnt/code/Users/Congitveservice_NoSQL/NLP/Model')"
   ]
  },
  {
   "cell_type": "code",
   "execution_count": null,
   "metadata": {},
   "outputs": [],
   "source": []
  },
  {
   "cell_type": "code",
   "execution_count": null,
   "metadata": {},
   "outputs": [],
   "source": [
    "import thinc.extra.datasets\n",
    "\n",
    "def load_data(limit=0, split=1):\n",
    "    \"\"\"Load data from the IMDB dataset.\"\"\"\n",
    "    # Partition off part of the train data for evaluation\n",
    "    train_data, _ = thinc.extra.datasets.imdb()\n",
    "    random.shuffle(train_data)\n",
    "    train_data = train_data[-limit:]\n",
    "    texts, labels = zip(*train_data)\n",
    "    cats = [{\"POSITIVE\": bool(y), \"NEGATIVE\": not bool(y)} for y in labels]\n",
    "    split = int(len(train_data) * split)\n",
    "    return (texts[:split], cats[:split]), (texts[split:], cats[split:])"
   ]
  },
  {
   "cell_type": "code",
   "execution_count": null,
   "metadata": {},
   "outputs": [],
   "source": [
    "a, b = load_data()"
   ]
  },
  {
   "cell_type": "code",
   "execution_count": null,
   "metadata": {},
   "outputs": [],
   "source": [
    "len(a)"
   ]
  },
  {
   "cell_type": "code",
   "execution_count": null,
   "metadata": {},
   "outputs": [],
   "source": [
    "len(a[0])"
   ]
  },
  {
   "cell_type": "code",
   "execution_count": null,
   "metadata": {},
   "outputs": [],
   "source": [
    "a[0][1]"
   ]
  },
  {
   "cell_type": "code",
   "execution_count": null,
   "metadata": {},
   "outputs": [],
   "source": [
    "len(b)"
   ]
  },
  {
   "cell_type": "code",
   "execution_count": null,
   "metadata": {},
   "outputs": [],
   "source": [
    "b[0]"
   ]
  },
  {
   "cell_type": "code",
   "execution_count": null,
   "metadata": {},
   "outputs": [],
   "source": [
    "b[1]"
   ]
  },
  {
   "cell_type": "code",
   "execution_count": null,
   "metadata": {},
   "outputs": [],
   "source": [
    "a[1][1]"
   ]
  },
  {
   "cell_type": "code",
   "execution_count": null,
   "metadata": {},
   "outputs": [],
   "source": [
    "a[0][1]"
   ]
  },
  {
   "cell_type": "code",
   "execution_count": null,
   "metadata": {},
   "outputs": [],
   "source": []
  }
 ],
 "metadata": {
  "kernelspec": {
   "display_name": "Python [conda env:py35]",
   "language": "python",
   "name": "conda-env-py35-py"
  },
  "language_info": {
   "codemirror_mode": {
    "name": "ipython",
    "version": 3
   },
   "file_extension": ".py",
   "mimetype": "text/x-python",
   "name": "python",
   "nbconvert_exporter": "python",
   "pygments_lexer": "ipython3",
   "version": "3.5.5"
  }
 },
 "nbformat": 4,
 "nbformat_minor": 2
}
