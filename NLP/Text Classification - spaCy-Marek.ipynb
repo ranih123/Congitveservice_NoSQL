{
 "cells": [
  {
   "cell_type": "code",
   "execution_count": null,
   "metadata": {},
   "outputs": [],
   "source": [
    "# install sp\n",
    "import sys\n",
    "!{sys.executable} -m pip install -U spacy"
   ]
  },
  {
   "cell_type": "code",
   "execution_count": 1,
   "metadata": {},
   "outputs": [],
   "source": [
    "import spacy\n",
    "import random"
   ]
  },
  {
   "cell_type": "markdown",
   "metadata": {},
   "source": [
    "## Train the text classification model."
   ]
  },
  {
   "cell_type": "code",
   "execution_count": 2,
   "metadata": {},
   "outputs": [],
   "source": [
    "train_data = [\n",
    "    ('get list of employees', {'cats': {'search': 1, 'range': 0}}),\n",
    "    ('get list of employees with name Nilepta', {'cats': {'search': 1, 'range': 0}}),\n",
    "    ('search employees with name Nilepta', {'cats': {'search': 1, 'range': 0}}),\n",
    "    ('find list of employees who live in Washington state', {'cats': {'search': 1, 'range': 0}}),\n",
    "    ('get details of all employees from state Washington', {'cats': {'search': 1, 'range': 0}}),\n",
    "    ('find employee with phone number as 2345678901', {'cats': {'search': 1, 'range': 0}}),\n",
    "    ('get list of employees from Washington state', {'cats': {'search': 1, 'range': 0}}),\n",
    "    ('find employees whose email is qwerty@gmail.com', {'cats': {'search': 1, 'range': 0}}),\n",
    "    ('get employee whose email is asdfg@gmail.com', {'cats': {'search': 1, 'range': 0}}),\n",
    "    ('get employee whose salary is between 100 and 200', {'cats': {'range': 0, 'range': 1}}),\n",
    "    ('get employee whose salary is above 100', {'cats': {'range': 1, 'range': 0}}),\n",
    "    ('get employee whose salary is below 100', {'cats': {'range': 1, 'range': 0}}),\n",
    "    (\"get employee whose email is asdfg@gmail.com and whose from Washington state\", {'cats': {'search': 1, 'range': 0}}),\n",
    "    (\"get employee whose email is asdfg@gmail.com and whose state is Washington\", {'cats': {'search': 1, 'range': 0}}),\n",
    "    (\"get employees whose licenses are gjlkddfbgfa and whose state is Washington\", {'cats': {'search': 1, 'range': 0}}),\n",
    "    (\"get employees whose manager is Becky and whose state is Washington\", {'cats': {'search': 1, 'range': 0}}),\n",
    "    (\"get list of employees from Washington state or California state\", {'cats': {'search': 1, 'range': 0}}),\n",
    "    (\"get details of all employees from state Delaware or state Michigan\", {'cats': {'search': 1, 'range': 0}}),\n",
    "    (\"find employees whose email is qwerty@gmail.com and state is Michigan\", {'cats': {'search': 1, 'range': 0}}),\n",
    "    (\"get list of employees with name Nilepta and phone number 5550147\", {'cats': {'search': 1, 'range': 0}}),\n",
    "    (\"get list of employees with name Nilepta and email 5550147@hotmail.com\", {'cats': {'search': 1, 'range': 0}})\n",
    "    ]"
   ]
  },
  {
   "cell_type": "code",
   "execution_count": 3,
   "metadata": {},
   "outputs": [
    {
     "name": "stdout",
     "output_type": "stream",
     "text": [
      "get list of employees {'cats': {'search': 1}}\n",
      "get list of employees with name Nilepta {'cats': {'search': 1}}\n",
      "search employees with name Nilepta {'cats': {'search': 1}}\n",
      "find list of employees who live in Washington state {'cats': {'search': 1}}\n",
      "get details of all employees from state Washington {'cats': {'search': 1}}\n",
      "find employee with phone number as 2345678901 {'cats': {'search': 1}}\n",
      "get list of employees from Washington state {'cats': {'search': 1}}\n",
      "find employees whose email is qwerty@gmail.com {'cats': {'search': 1}}\n",
      "get employee whose email is asdfg@gmail.com {'cats': {'search': 1}}\n",
      "get employee whose salary is between 100 and 200 {'cats': {'range': 1}}\n",
      "get employee whose salary is above 100 {'cats': {'range': 1}}\n",
      "get employee whose salary is below 100 {'cats': {'range': 1}}\n",
      "get employee whose email is asdfg@gmail.com and whose from Washington state {'cats': {'search': 1}}\n",
      "get employee whose email is asdfg@gmail.com and whose state is Washington {'cats': {'search': 1}}\n",
      "get employees whose licenses are gjlkddfbgfa and whose state is Washington {'cats': {'search': 1}}\n",
      "get employees whose manager is Becky and whose state is Washington {'cats': {'search': 1}}\n",
      "get list of employees from Washington state or California state {'cats': {'search': 1}}\n",
      "get details of all employees from state Delaware or state Michigan {'cats': {'search': 1}}\n",
      "find employees whose email is qwerty@gmail.com and state is Michigan {'cats': {'search': 1}}\n",
      "get list of employees with name Nilepta and phone number 5550147 {'cats': {'search': 1}}\n",
      "get list of employees with name Nilepta and email 5550147@hotmail.com {'cats': {'search': 1}}\n"
     ]
    }
   ],
   "source": [
    "for text, annotations in train_data:\n",
    "    print(text, annotations)"
   ]
  },
  {
   "cell_type": "code",
   "execution_count": 4,
   "metadata": {},
   "outputs": [],
   "source": [
    "# nlp create model.\n",
    "nlp = spacy.blank('en')"
   ]
  },
  {
   "cell_type": "code",
   "execution_count": 5,
   "metadata": {},
   "outputs": [],
   "source": [
    "textcat = nlp.create_pipe('textcat')"
   ]
  },
  {
   "cell_type": "code",
   "execution_count": 6,
   "metadata": {},
   "outputs": [],
   "source": [
    "nlp.add_pipe(textcat)"
   ]
  },
  {
   "cell_type": "code",
   "execution_count": 7,
   "metadata": {},
   "outputs": [
    {
     "data": {
      "text/plain": [
       "1"
      ]
     },
     "execution_count": 7,
     "metadata": {},
     "output_type": "execute_result"
    }
   ],
   "source": [
    "# add labelled data to the model.\n",
    "textcat.add_label('search')\n",
    "textcat.add_label('range')"
   ]
  },
  {
   "cell_type": "code",
   "execution_count": 8,
   "metadata": {},
   "outputs": [],
   "source": [
    "other_pipes = [pipe for pipe in nlp.pipe_names if pipe != 'textcat']"
   ]
  },
  {
   "cell_type": "code",
   "execution_count": 9,
   "metadata": {},
   "outputs": [],
   "source": [
    "n_iter = 20"
   ]
  },
  {
   "cell_type": "code",
   "execution_count": 10,
   "metadata": {},
   "outputs": [
    {
     "name": "stdout",
     "output_type": "stream",
     "text": [
      "{'textcat': 0.5024998546319388}\n",
      "{'textcat': 0.02577561914286619}\n",
      "{'textcat': 0.13384606758139128}\n",
      "{'textcat': 0.0034048531560628703}\n",
      "{'textcat': 0.007132194422197813}\n",
      "{'textcat': 0.0559148450379503}\n",
      "{'textcat': 0.0005989523361549232}\n",
      "{'textcat': 0.00014079884525841635}\n",
      "{'textcat': 0.008918153765979042}\n",
      "{'textcat': 5.076261726699727e-05}\n",
      "{'textcat': 0.00044421189670629246}\n",
      "{'textcat': 0.0008927303280970023}\n",
      "{'textcat': 0.0016811124253024445}\n",
      "{'textcat': 1.2359665664263275e-05}\n",
      "{'textcat': 0.00021434273996945308}\n",
      "{'textcat': 0.11400302957492059}\n",
      "{'textcat': 3.573332435280463e-06}\n",
      "{'textcat': 2.949770902205273e-06}\n",
      "{'textcat': 1.965546714188804e-05}\n",
      "{'textcat': 4.386362293473667e-05}\n"
     ]
    }
   ],
   "source": [
    "with nlp.disable_pipes(*other_pipes):  # only train NER\n",
    "    optimizer = nlp.begin_training()\n",
    "    for itn in range(n_iter):\n",
    "        random.shuffle(train_data)\n",
    "        losses = {}\n",
    "        for text, annotations in train_data:\n",
    "            nlp.update([text], [annotations], sgd=optimizer, drop=0.35, losses=losses)\n",
    "        print(losses)"
   ]
  },
  {
   "cell_type": "code",
   "execution_count": 12,
   "metadata": {},
   "outputs": [
    {
     "name": "stdout",
     "output_type": "stream",
     "text": [
      "Entities in 'get employee where salary is below 100'\n",
      "(0, 'range')\n",
      "(1, 'search')\n"
     ]
    }
   ],
   "source": [
    "# testing the model.\n",
    "test_text = \"get employee with salary is below 100\"\n",
    "doc = nlp(test_text)\n",
    "print(\"Entities in '%s'\" % test_text)\n",
    "for i, ent in enumerate(doc.cats):\n",
    "    print((i, ent))"
   ]
  },
  {
   "cell_type": "code",
   "execution_count": null,
   "metadata": {},
   "outputs": [],
   "source": [
    "nlp.to_disk('/mnt/azmnt/code/Users/Congitveservice_NoSQL/NLP/Model')"
   ]
  },
  {
   "cell_type": "code",
   "execution_count": null,
   "metadata": {},
   "outputs": [],
   "source": []
  },
  {
   "cell_type": "code",
   "execution_count": null,
   "metadata": {},
   "outputs": [],
   "source": [
    "import thinc.extra.datasets\n",
    "\n",
    "def load_data(limit=0, split=1):\n",
    "    \"\"\"Load data from the IMDB dataset.\"\"\"\n",
    "    # Partition off part of the train data for evaluation\n",
    "    train_data, _ = thinc.extra.datasets.imdb()\n",
    "    random.shuffle(train_data)\n",
    "    train_data = train_data[-limit:]\n",
    "    texts, labels = zip(*train_data)\n",
    "    cats = [{\"POSITIVE\": bool(y), \"NEGATIVE\": not bool(y)} for y in labels]\n",
    "    split = int(len(train_data) * split)\n",
    "    return (texts[:split], cats[:split]), (texts[split:], cats[split:])"
   ]
  },
  {
   "cell_type": "code",
   "execution_count": null,
   "metadata": {},
   "outputs": [],
   "source": [
    "a, b = load_data()"
   ]
  },
  {
   "cell_type": "code",
   "execution_count": null,
   "metadata": {},
   "outputs": [],
   "source": [
    "len(a)"
   ]
  },
  {
   "cell_type": "code",
   "execution_count": null,
   "metadata": {},
   "outputs": [],
   "source": [
    "len(a[0])"
   ]
  },
  {
   "cell_type": "code",
   "execution_count": null,
   "metadata": {},
   "outputs": [],
   "source": [
    "a[0][1]"
   ]
  },
  {
   "cell_type": "code",
   "execution_count": null,
   "metadata": {},
   "outputs": [],
   "source": [
    "len(b)"
   ]
  },
  {
   "cell_type": "code",
   "execution_count": null,
   "metadata": {},
   "outputs": [],
   "source": [
    "b[0]"
   ]
  },
  {
   "cell_type": "code",
   "execution_count": null,
   "metadata": {},
   "outputs": [],
   "source": [
    "b[1]"
   ]
  },
  {
   "cell_type": "code",
   "execution_count": null,
   "metadata": {},
   "outputs": [],
   "source": [
    "a[1][1]"
   ]
  },
  {
   "cell_type": "code",
   "execution_count": null,
   "metadata": {},
   "outputs": [],
   "source": [
    "a[0][1]"
   ]
  },
  {
   "cell_type": "code",
   "execution_count": null,
   "metadata": {},
   "outputs": [],
   "source": []
  }
 ],
 "metadata": {
  "kernelspec": {
   "display_name": "Python [conda env:py35]",
   "language": "python",
   "name": "conda-env-py35-py"
  },
  "language_info": {
   "codemirror_mode": {
    "name": "ipython",
    "version": 3
   },
   "file_extension": ".py",
   "mimetype": "text/x-python",
   "name": "python",
   "nbconvert_exporter": "python",
   "pygments_lexer": "ipython3",
   "version": "3.5.5"
  }
 },
 "nbformat": 4,
 "nbformat_minor": 2
}
